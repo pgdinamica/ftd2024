{
  "nbformat": 4,
  "nbformat_minor": 0,
  "metadata": {
    "colab": {
      "provenance": [],
      "authorship_tag": "ABX9TyOgfspOwFAnyydI/aCynTt6",
      "include_colab_link": true
    },
    "kernelspec": {
      "name": "python3",
      "display_name": "Python 3"
    },
    "language_info": {
      "name": "python"
    }
  },
  "cells": [
    {
      "cell_type": "markdown",
      "metadata": {
        "id": "view-in-github",
        "colab_type": "text"
      },
      "source": [
        "<a href=\"https://colab.research.google.com/github/pgdinamica/ftd2024/blob/main/Bandeira_do_Brasil.ipynb\" target=\"_parent\"><img src=\"https://colab.research.google.com/assets/colab-badge.svg\" alt=\"Open In Colab\"/></a>"
      ]
    },
    {
      "cell_type": "markdown",
      "source": [
        "# FTD - Articulação Matemática - Outubro | 2024\n",
        "\n",
        "## A matemática das imagens digitais\n",
        "\n",
        "### Prof: Hallison Paz\n",
        "\n",
        "### Experimento com a bandeira do Brasil"
      ],
      "metadata": {
        "id": "uFO5de9FMB8u"
      }
    },
    {
      "cell_type": "code",
      "execution_count": null,
      "metadata": {
        "id": "mXbSX-A0K-89"
      },
      "outputs": [],
      "source": [
        "from PIL import Image\n",
        "from math import isclose"
      ]
    },
    {
      "cell_type": "code",
      "source": [
        "def eq_reta(p1, p2):\n",
        "    if isclose(p2[0] - p1[0], 0):\n",
        "        print(\"aqui\")\n",
        "        return lambda x, y: x\n",
        "    m = (p2[1] - p1[1]) / (p2[0] - p1[0])\n",
        "    return lambda x, y: y - p1[1] - m*(x - p1[0])\n",
        "\n",
        "def desenhar_quadrilatero(img, cor, pontos):\n",
        "    ladoA = eq_reta(pontos[0], pontos[1])\n",
        "    ladoB = eq_reta(pontos[1], pontos[2])\n",
        "    ladoC = eq_reta(pontos[2], pontos[3])\n",
        "    ladoD = eq_reta(pontos[3], pontos[0])\n",
        "    altura = img.height\n",
        "    comprimento = img.width\n",
        "    for i in range(altura):\n",
        "        for j in range(comprimento):\n",
        "            if (ladoA(j, i) >= 0 and\n",
        "                ladoB(j, i) >= 0 and\n",
        "                ladoC(j, i) <= 0 and\n",
        "                ladoD(j, i) <= 0):\n",
        "                img.putpixel((j, i), cor)\n",
        "\n",
        "    return img\n",
        "\n",
        "def desenhar_circulo(img, cor, centro, raio):\n",
        "    comprimento = img.width\n",
        "    altura = img.height\n",
        "    for i in range(altura):\n",
        "        for j in range(comprimento):\n",
        "            if (j - centro[0])**2 + (i - centro[1])**2 <= raio**2:\n",
        "                img.putpixel((j, i), cor)\n",
        "    return img\n"
      ],
      "metadata": {
        "id": "VeOkCUiNLCRM"
      },
      "execution_count": null,
      "outputs": []
    },
    {
      "cell_type": "code",
      "source": [
        "# cores oficiais da bandeira\n",
        "AZUL = (0, 39, 118)\n",
        "AMARELO = (255, 223, 0)\n",
        "VERDE = (0, 156, 59)\n",
        "# cria imagem com a proporção oficial da bandeira\n",
        "altura = 700\n",
        "comprimento = int(altura / 14 * 20)\n",
        "dimensoes = (comprimento, altura)\n",
        "# cria bandeira com fundo verde\n",
        "bandeira = Image.new(\"RGB\", dimensoes, VERDE)\n",
        "# distância do losango às bordas\n",
        "dist_losango = int(altura / 14 * 1.7)\n",
        "# vértices do losando\n",
        "vertices = [\n",
        "    (dist_losango, altura//2),\n",
        "    (comprimento//2, dist_losango),\n",
        "    (comprimento - dist_losango, altura//2),\n",
        "    (comprimento//2, altura - dist_losango)\n",
        "]\n",
        "# adiciona losango amarelo\n",
        "bandeira = desenhar_quadrilatero(bandeira, AMARELO, vertices)\n",
        "\n",
        "centro = (comprimento//2, altura//2)\n",
        "raio = int(3.5 * altura / 14)\n",
        "# adiciona círculo azul\n",
        "bandeira = desenhar_circulo(bandeira, AZUL, centro, raio)\n",
        "bandeira.save(\"brasil-final.png\")"
      ],
      "metadata": {
        "id": "U49txXrhLSHN"
      },
      "execution_count": null,
      "outputs": []
    },
    {
      "cell_type": "code",
      "source": [
        "bandeira"
      ],
      "metadata": {
        "colab": {
          "base_uri": "https://localhost:8080/",
          "height": 717
        },
        "id": "33FDVowmLdql",
        "outputId": "b4295cbd-ff77-4ab5-8b07-b1bc222f5e59"
      },
      "execution_count": null,
      "outputs": [
        {
          "output_type": "execute_result",
          "data": {
            "text/plain": [
              "<PIL.Image.Image image mode=RGB size=1000x700>"
            ],
            "image/png": "[encoded data removed]"
          },
          "metadata": {},
          "execution_count": 9
        }
      ]
    }
  ]
}